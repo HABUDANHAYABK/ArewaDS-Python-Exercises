{
 "cells": [
  {
   "cell_type": "markdown",
   "metadata": {},
   "source": [
    "# MODULE SEVEN (CONDITIONALS)\n",
    "\n",
    "_This is my module seven (conditionals) exercises file_"
   ]
  },
  {
   "cell_type": "markdown",
   "metadata": {},
   "source": [
    "## Level 1"
   ]
  },
  {
   "cell_type": "markdown",
   "metadata": {},
   "source": [
    "1. Get user input using input(“Enter your age: ”). If user is 18 or older, give feedback: You are old enough to drive. If below 18 give feedback to wait for the missing amount of years. Output:\n",
    "\n",
    "Enter your age: 30\n",
    "You are old enough to learn to drive.\n",
    "Output:\n",
    "Enter your age: 15\n",
    "You need 3 more years to learn to drive."
   ]
  },
  {
   "cell_type": "code",
   "execution_count": 2,
   "metadata": {},
   "outputs": [
    {
     "name": "stdout",
     "output_type": "stream",
     "text": [
      "You need 4 more years to learn to drive\n"
     ]
    }
   ],
   "source": [
    "age = int(input('Enter your age:'))\n",
    "if age >= 18 :\n",
    "    print(\"You are old enough to learn to drive\")\n",
    "else: \n",
    "    n = 18 - age\n",
    "    print(f\"You need {n} more years to learn to drive\")"
   ]
  },
  {
   "cell_type": "markdown",
   "metadata": {},
   "source": [
    "2. Compare the values of my_age and your_age using if … else. Who is older (me or you)? Use input(“Enter your age: ”) to get the age as input. You can use a nested condition to print 'year' for 1 year difference in age, 'years' for bigger differences, and a custom text if my_age = your_age. Output:\n",
    "\n",
    "Enter your age: 30\n",
    "You are 5 years older than me."
   ]
  },
  {
   "cell_type": "code",
   "execution_count": 6,
   "metadata": {},
   "outputs": [
    {
     "name": "stdout",
     "output_type": "stream",
     "text": [
      "You are 26 years older than me\n"
     ]
    }
   ],
   "source": [
    "my_age = 27\n",
    "your_age = int(input('Enter your age'))\n",
    "if your_age > my_age:\n",
    "    #difference of age\n",
    "    n = your_age - my_age\n",
    "    if n == 1:\n",
    "        print('You are 1 year older than me')\n",
    "    else:\n",
    "        print(f'You are {n} years older than me')\n",
    "elif your_age < my_age:\n",
    "    print('I am older than you')\n",
    "else:\n",
    "    print('my_age = your_age')\n"
   ]
  },
  {
   "cell_type": "markdown",
   "metadata": {},
   "source": [
    "3. Get two numbers from the user using input prompt. If a is greater than b return a is greater than b, if a is less b return a is smaller than b, else a is equal to b. Output:\n",
    "\n",
    "Enter number one: 4\n",
    "Enter number two: 3\n",
    "4 is greater than 3"
   ]
  },
  {
   "cell_type": "code",
   "execution_count": 7,
   "metadata": {},
   "outputs": [
    {
     "name": "stdout",
     "output_type": "stream",
     "text": [
      "4 is greater than 3\n"
     ]
    }
   ],
   "source": [
    "a = int(input('Enter any number say \"a\"'))\n",
    "b = int(input('Enter another number say \"b\"'))\n",
    "if a > b:\n",
    "    print(f'{a} is greater than {b}')\n",
    "elif a < b:\n",
    "    print(f'{a} is less than {b}')\n",
    "else: \n",
    "    print('a is equal to b')"
   ]
  },
  {
   "cell_type": "markdown",
   "metadata": {},
   "source": [
    "## Level 2"
   ]
  },
  {
   "cell_type": "markdown",
   "metadata": {},
   "source": [
    "1. Write a code which gives grade to students according to theirs scores:\n",
    "\n",
    "80-100, A\n",
    "70-89, B\n",
    "60-69, C\n",
    "50-59, D\n",
    "0-49, F"
   ]
  },
  {
   "cell_type": "code",
   "execution_count": 8,
   "metadata": {},
   "outputs": [
    {
     "name": "stdout",
     "output_type": "stream",
     "text": [
      "You Earned \"A\" Grade\n"
     ]
    }
   ],
   "source": [
    "score = int(input('Enter your score:'))\n",
    "if score >= 80:\n",
    "    print('You Earned \"A\" Grade')\n",
    "elif 70 <= score < 80:\n",
    "    print('You Earned \"A\" Grade')\n",
    "elif 60 <= score < 70:\n",
    "    print('You Earned \"C\" Grade')\n",
    "elif 50 <= score < 60:\n",
    "    print('You Earned \"D\" Grade')\n",
    "else:\n",
    "    print('You Earned \"F\" Grade and you have failed')"
   ]
  },
  {
   "cell_type": "markdown",
   "metadata": {},
   "source": [
    "2. Check if the season is Autumn, Winter, Spring or Summer. If the user input is: September, October or November, the season is Autumn. December, January or February, the season is Winter. March, April or May, the season is Spring June, July or August, the season is Summer"
   ]
  },
  {
   "cell_type": "code",
   "execution_count": 9,
   "metadata": {},
   "outputs": [
    {
     "name": "stdout",
     "output_type": "stream",
     "text": [
      "The season is Spring\n"
     ]
    }
   ],
   "source": [
    "season = input('Enter the first month in the season')\n",
    "autumn = ['september', 'october', 'november']\n",
    "winter = ['december', 'january', 'february',]\n",
    "spring = ['march', 'april', 'may']\n",
    "summer = ['june', 'july', 'august']\n",
    "# condition\n",
    "if season in autumn:\n",
    "    print('The season is Autumn')\n",
    "elif season in winter:\n",
    "    print('The season is Winter')\n",
    "elif season in spring:\n",
    "    print('The season is Spring')\n",
    "else:\n",
    "    print('The season is Summer')"
   ]
  },
  {
   "cell_type": "markdown",
   "metadata": {},
   "source": [
    "3. The following list contains some fruits:\n",
    "\n",
    "```sh\n",
    "fruits = ['banana', 'orange', 'mango', 'lemon']\n",
    "```\n",
    "\n",
    "If a fruit doesn't exist in the list add the fruit to the list and print the modified list. If the fruit exists print('That fruit already exist in the list')"
   ]
  },
  {
   "cell_type": "code",
   "execution_count": 11,
   "metadata": {},
   "outputs": [
    {
     "name": "stdout",
     "output_type": "stream",
     "text": [
      "modified list ['banana', 'orange', 'mango', 'lemon', 'apple']\n"
     ]
    }
   ],
   "source": [
    "fruit = input('Enter a name of any fruit:')\n",
    "fruits = ['banana', 'orange', 'mango', 'lemon']\n",
    "if fruit in fruits:\n",
    "    print('That fruit already exist in the list')\n",
    "else: \n",
    "    fruits.append(fruit)\n",
    "    print(f\"modified list {fruits}\")\n",
    "\n"
   ]
  },
  {
   "cell_type": "markdown",
   "metadata": {},
   "source": [
    "## Level 3\n",
    "\n",
    "Here we have a person dictionary. Feel free to modify it!\n",
    "        person={\n",
    "    'first_name': 'Asabeneh',\n",
    "    'last_name': 'Yetayeh',\n",
    "    'age': 250,\n",
    "    'country': 'Finland',\n",
    "    'is_marred': True,\n",
    "    'skills': ['JavaScript', 'React', 'Node', 'MongoDB', 'Python'],\n",
    "    'address': {\n",
    "        'street': 'Space street',\n",
    "        'zipcode': '02210'\n",
    "    }\n",
    "    }"
   ]
  },
  {
   "cell_type": "markdown",
   "metadata": {},
   "source": [
    "1. Check if the person dictionary has skills key, if so print out the middle skill in the skills list."
   ]
  },
  {
   "cell_type": "code",
   "execution_count": 12,
   "metadata": {},
   "outputs": [],
   "source": [
    "person = {\n",
    "    'first_name': 'Asabeneh',\n",
    "    'last_name': 'Yetayeh',\n",
    "    'age': 250,\n",
    "    'country': 'Finland',\n",
    "    'is_marred': True,\n",
    "    'skills': ['JavaScript', 'React', 'Node', 'MongoDB', 'Python'],\n",
    "    'address': {\n",
    "        'street': 'Space street',\n",
    "        'zipcode': '02210'\n",
    "    }\n",
    "    }"
   ]
  },
  {
   "cell_type": "code",
   "execution_count": 17,
   "metadata": {},
   "outputs": [
    {
     "name": "stdout",
     "output_type": "stream",
     "text": [
      "skills key exist in person\n",
      "\n",
      "The middle skills is Node\n"
     ]
    }
   ],
   "source": [
    "# check if skills exist in the dictionary, person\n",
    "if 'skills' in person:\n",
    "    print('skills key exist in person')\n",
    "    middle_skills = person['skills'][2]\n",
    "    print(f\"\\nThe middle skills is {middle_skills}\")"
   ]
  },
  {
   "cell_type": "markdown",
   "metadata": {},
   "source": [
    "2. Check if the person dictionary has skills key, if so check if the person has 'Python' skill and print out the result."
   ]
  },
  {
   "cell_type": "code",
   "execution_count": 25,
   "metadata": {},
   "outputs": [],
   "source": [
    "person = {\n",
    "    'first_name': 'Asabeneh',\n",
    "    'last_name': 'Yetayeh',\n",
    "    'age': 250,\n",
    "    'country': 'Finland',\n",
    "    'is_marred': True,\n",
    "    'skills': ['JavaScript', 'React', 'Node', 'MongoDB', 'Python'],\n",
    "    'address': {\n",
    "        'street': 'Space street',\n",
    "        'zipcode': '02210'\n",
    "    }\n",
    "    }\n"
   ]
  },
  {
   "cell_type": "code",
   "execution_count": 32,
   "metadata": {},
   "outputs": [
    {
     "name": "stdout",
     "output_type": "stream",
     "text": [
      "skills key exist\n"
     ]
    }
   ],
   "source": [
    "if 'skills' in person:\n",
    "    print('skills key exist')\n",
    "    skills_list = person['skills']\n",
    "    if 'python' in skills_list:\n",
    "     print(skills_list)\n",
    "    "
   ]
  },
  {
   "cell_type": "markdown",
   "metadata": {},
   "source": [
    "3. If a person skills has only JavaScript and React, print('He is a front end developer'), if the person skills has Node, Python, MongoDB, print('He is a backend developer'), if the person skills has React, Node and MongoDB, Print('He is a fullstack developer'), else print('unknown title') - for more accurate results more conditions can be nested!"
   ]
  },
  {
   "cell_type": "code",
   "execution_count": 33,
   "metadata": {},
   "outputs": [
    {
     "name": "stdout",
     "output_type": "stream",
     "text": [
      "Unknown Title\n"
     ]
    }
   ],
   "source": [
    "if {'JavaScrift', 'React'} in person['skills']:\n",
    "    print('He is a front end developer')\n",
    "elif {'Node', 'python', 'MangoDB'} in person['skills']:\n",
    "    print('He is a backend developer')\n",
    "elif {'React', 'Node', 'MangoDB'} in person['skills']:\n",
    "    print('He is fullstack developer')\n",
    "else:\n",
    "    print('Unknown Title')\n",
    "\n"
   ]
  },
  {
   "cell_type": "markdown",
   "metadata": {},
   "source": [
    "4. If the person is married and if he lives in Finland, print the information in the following format:\n",
    "    Asabeneh Yetayeh lives in Finland. He is married."
   ]
  },
  {
   "cell_type": "code",
   "execution_count": null,
   "metadata": {},
   "outputs": [],
   "source": [
    "if person['is_married'] == True:\n",
    "    if person['country'] == 'Finland':\n",
    "        print('Asabeneh Yetayeh lives in Finland. He is married.')"
   ]
  },
  {
   "cell_type": "markdown",
   "metadata": {},
   "source": [
    "# THE END"
   ]
  }
 ],
 "metadata": {
  "kernelspec": {
   "display_name": "base",
   "language": "python",
   "name": "python3"
  },
  "language_info": {
   "codemirror_mode": {
    "name": "ipython",
    "version": 3
   },
   "file_extension": ".py",
   "mimetype": "text/x-python",
   "name": "python",
   "nbconvert_exporter": "python",
   "pygments_lexer": "ipython3",
   "version": "3.12.3"
  }
 },
 "nbformat": 4,
 "nbformat_minor": 2
}
