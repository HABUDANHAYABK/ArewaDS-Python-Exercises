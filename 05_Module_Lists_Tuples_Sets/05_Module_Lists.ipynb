{
 "cells": [
  {
   "cell_type": "markdown",
   "metadata": {},
   "source": [
    "# MODULE FIVE (LIST)\n",
    "\n",
    "_This is my exercises on list module_\n",
    "\n",
    "## Level 1"
   ]
  },
  {
   "cell_type": "markdown",
   "metadata": {},
   "source": [
    "1. Declare an empty list"
   ]
  },
  {
   "cell_type": "code",
   "execution_count": 2,
   "metadata": {},
   "outputs": [],
   "source": [
    "empty_list = []"
   ]
  },
  {
   "cell_type": "markdown",
   "metadata": {},
   "source": [
    "2. Declare a list with more than 5 items"
   ]
  },
  {
   "cell_type": "code",
   "execution_count": 1,
   "metadata": {},
   "outputs": [],
   "source": [
    "food_items = ['rice', 'indomi', 'palm oil', 'vegetables', 'maggi', 'onion']"
   ]
  },
  {
   "cell_type": "markdown",
   "metadata": {},
   "source": [
    "3. Find the length of your list"
   ]
  },
  {
   "cell_type": "code",
   "execution_count": 4,
   "metadata": {},
   "outputs": [
    {
     "name": "stdout",
     "output_type": "stream",
     "text": [
      "6\n"
     ]
    }
   ],
   "source": [
    "length_of_food_items = len(food_items)\n",
    "print(length_of_food_items)"
   ]
  },
  {
   "cell_type": "markdown",
   "metadata": {},
   "source": [
    "4. Get the first item, the middle item and the last item of the list"
   ]
  },
  {
   "cell_type": "code",
   "execution_count": 8,
   "metadata": {},
   "outputs": [
    {
     "name": "stdout",
     "output_type": "stream",
     "text": [
      "rice\n",
      "['palm oil', 'vegetables']\n",
      "onion\n"
     ]
    }
   ],
   "source": [
    "print(food_items[0])\n",
    "print(food_items[2:4])\n",
    "print(food_items[-1])"
   ]
  },
  {
   "cell_type": "markdown",
   "metadata": {},
   "source": [
    "5. Declare a list called mixed_data_types, put your(name, age, height, marital status, address)"
   ]
  },
  {
   "cell_type": "code",
   "execution_count": 10,
   "metadata": {},
   "outputs": [],
   "source": [
    "mixed_data_types = [{'name': 'abubakar', 'age': 27, 'height': 170, 'marital status': 'single', 'address': 'no 15 gangare birnin kudu'}]"
   ]
  },
  {
   "cell_type": "markdown",
   "metadata": {},
   "source": [
    "6. Declare a list variable named it_companies and assign initial values Facebook, Google, Microsoft, Apple, IBM, Oracle and Amazon"
   ]
  },
  {
   "cell_type": "code",
   "execution_count": 11,
   "metadata": {},
   "outputs": [],
   "source": [
    "companies = ['facebook', 'google', 'microsoft', 'apple', 'ibm', 'oracle', 'amazon']"
   ]
  },
  {
   "cell_type": "markdown",
   "metadata": {},
   "source": [
    "7. Print the list using print()"
   ]
  },
  {
   "cell_type": "code",
   "execution_count": 12,
   "metadata": {},
   "outputs": [
    {
     "name": "stdout",
     "output_type": "stream",
     "text": [
      "['facebook', 'google', 'microsoft', 'apple', 'ibm', 'oracle', 'amazon']\n"
     ]
    }
   ],
   "source": [
    "print(companies)"
   ]
  },
  {
   "cell_type": "markdown",
   "metadata": {},
   "source": [
    "8. Print the number of companies in the list"
   ]
  },
  {
   "cell_type": "code",
   "execution_count": 13,
   "metadata": {},
   "outputs": [
    {
     "name": "stdout",
     "output_type": "stream",
     "text": [
      "7\n"
     ]
    }
   ],
   "source": [
    "number_of_companies = len(companies)\n",
    "print(number_of_companies)"
   ]
  },
  {
   "cell_type": "markdown",
   "metadata": {},
   "source": [
    "9. Print the first, middle and last company"
   ]
  },
  {
   "cell_type": "code",
   "execution_count": 15,
   "metadata": {},
   "outputs": [
    {
     "name": "stdout",
     "output_type": "stream",
     "text": [
      "facebook\n",
      "apple\n",
      "amazon\n"
     ]
    }
   ],
   "source": [
    "print(companies[0])\n",
    "print(companies[3])\n",
    "print(companies[-1])"
   ]
  },
  {
   "cell_type": "markdown",
   "metadata": {},
   "source": [
    "10. Print the list after modifying one of the companies"
   ]
  },
  {
   "cell_type": "code",
   "execution_count": 22,
   "metadata": {},
   "outputs": [
    {
     "name": "stdout",
     "output_type": "stream",
     "text": [
      "['pepe', 'facebook', 'google', 'microsoft', 'apple', 'ibm', 'oracle', 'amazon']\n"
     ]
    }
   ],
   "source": [
    "companies\n",
    "companies.insert(0, 'pepe')\n",
    "print(companies)"
   ]
  },
  {
   "cell_type": "markdown",
   "metadata": {},
   "source": [
    "11. Add an IT company to it companies "
   ]
  },
  {
   "cell_type": "code",
   "execution_count": 26,
   "metadata": {},
   "outputs": [
    {
     "name": "stdout",
     "output_type": "stream",
     "text": [
      "['pepe', 'facebook', 'google', 'microsoft', 'apple', 'ibm', 'oracle', 'amazon', 'it company', 'it company']\n"
     ]
    }
   ],
   "source": [
    "companies\n",
    "companies.append('it company')\n",
    "print(companies)"
   ]
  },
  {
   "cell_type": "markdown",
   "metadata": {},
   "source": [
    "12. Insert an IT company in the middle of the companies list"
   ]
  },
  {
   "cell_type": "code",
   "execution_count": 6,
   "metadata": {},
   "outputs": [
    {
     "name": "stdout",
     "output_type": "stream",
     "text": [
      "['facebook', 'google', 'microsoft', 'it company', 'apple', 'ibm', 'oracle', 'amazon']\n"
     ]
    }
   ],
   "source": [
    "companies = ['facebook', 'google', 'microsoft', 'apple', 'ibm', 'oracle', 'amazon']\n",
    "companies.insert(3, 'it company')\n",
    "print(companies)"
   ]
  },
  {
   "cell_type": "markdown",
   "metadata": {},
   "source": [
    "13. Change one of the it_companies names to uppercase (IBM excluded!)"
   ]
  },
  {
   "cell_type": "code",
   "execution_count": 13,
   "metadata": {},
   "outputs": [
    {
     "name": "stdout",
     "output_type": "stream",
     "text": [
      "['facebook', 'google', 'microsoft', 'apple', 'ibm', 'oracle', 'jumia']\n"
     ]
    }
   ],
   "source": [
    "companies = ['facebook', 'google', 'microsoft', 'apple', 'ibm', 'oracle', 'amazon']\n",
    "last_index = len(companies) - 1\n",
    "companies[last_index] = \"jumia\"\n",
    "print(companies)"
   ]
  },
  {
   "cell_type": "markdown",
   "metadata": {},
   "source": [
    "14. Join the it_companies with a string '#; '"
   ]
  },
  {
   "cell_type": "code",
   "execution_count": 14,
   "metadata": {},
   "outputs": [
    {
     "name": "stdout",
     "output_type": "stream",
     "text": [
      "['facebook', 'google', 'microsoft', 'apple', 'ibm', 'oracle', 'jumia', '#']\n"
     ]
    }
   ],
   "source": [
    "it_companies_and_string = companies + list('#')\n",
    "print(it_companies_and_string)"
   ]
  },
  {
   "cell_type": "markdown",
   "metadata": {},
   "source": [
    "15. Check if a certain company exists in the it_companies list.\n"
   ]
  },
  {
   "cell_type": "code",
   "execution_count": 15,
   "metadata": {},
   "outputs": [
    {
     "name": "stdout",
     "output_type": "stream",
     "text": [
      "False\n"
     ]
    }
   ],
   "source": [
    "does_nokia_exist = 'nokia' in companies\n",
    "print(does_nokia_exist)"
   ]
  },
  {
   "cell_type": "markdown",
   "metadata": {},
   "source": [
    "16. Sort the list using sort() method"
   ]
  },
  {
   "cell_type": "code",
   "execution_count": 16,
   "metadata": {},
   "outputs": [
    {
     "name": "stdout",
     "output_type": "stream",
     "text": [
      "['amazon', 'apple', 'facebook', 'google', 'ibm', 'microsoft', 'oracle']\n"
     ]
    }
   ],
   "source": [
    "companies = ['facebook', 'google', 'microsoft', 'apple', 'ibm', 'oracle', 'amazon']\n",
    "companies.sort()\n",
    "print(companies)"
   ]
  },
  {
   "cell_type": "markdown",
   "metadata": {},
   "source": [
    "17. Reverse the list in descending order using reverse() method"
   ]
  },
  {
   "cell_type": "code",
   "execution_count": 17,
   "metadata": {},
   "outputs": [
    {
     "name": "stdout",
     "output_type": "stream",
     "text": [
      "['oracle', 'microsoft', 'ibm', 'google', 'facebook', 'apple', 'amazon']\n"
     ]
    }
   ],
   "source": [
    "companies = ['facebook', 'google', 'microsoft', 'apple', 'ibm', 'oracle', 'amazon']\n",
    "companies.sort(reverse=True)\n",
    "print(companies)"
   ]
  },
  {
   "cell_type": "markdown",
   "metadata": {},
   "source": [
    "18. Slice out the first 3 companies from the list"
   ]
  },
  {
   "cell_type": "code",
   "execution_count": 21,
   "metadata": {},
   "outputs": [
    {
     "name": "stdout",
     "output_type": "stream",
     "text": [
      "['oracle', 'microsoft', 'ibm']\n"
     ]
    }
   ],
   "source": [
    "first_three_companies = companies[0:3]\n",
    "print(first_three_companies)"
   ]
  },
  {
   "cell_type": "markdown",
   "metadata": {},
   "source": [
    "19. Slice out the last 3 companies from the list"
   ]
  },
  {
   "cell_type": "code",
   "execution_count": 22,
   "metadata": {},
   "outputs": [
    {
     "name": "stdout",
     "output_type": "stream",
     "text": [
      "['facebook', 'apple', 'amazon']\n"
     ]
    }
   ],
   "source": [
    "last_three_companies = companies[-3:]\n",
    "print(last_three_companies)"
   ]
  },
  {
   "cell_type": "markdown",
   "metadata": {},
   "source": [
    "20. Slice out the middle IT company or companies from the list"
   ]
  },
  {
   "cell_type": "code",
   "execution_count": 27,
   "metadata": {},
   "outputs": [
    {
     "name": "stdout",
     "output_type": "stream",
     "text": [
      "middle company is ['google']\n",
      "original company list is ['oracle', 'microsoft', 'ibm', 'google', 'facebook', 'apple', 'amazon']\n"
     ]
    }
   ],
   "source": [
    "middle_company = companies[3:4]\n",
    "print(\"middle company is\", middle_company)\n",
    "print(f\"original company list is {companies}\")"
   ]
  },
  {
   "cell_type": "markdown",
   "metadata": {},
   "source": [
    "21. Remove the first IT company from the list"
   ]
  },
  {
   "cell_type": "code",
   "execution_count": 31,
   "metadata": {},
   "outputs": [
    {
     "name": "stdout",
     "output_type": "stream",
     "text": [
      "original company list is ['oracle', 'microsoft', 'ibm', 'facebook', 'apple', 'amazon']\n",
      "modified company list is ['oracle', 'microsoft', 'ibm', 'apple', 'amazon']\n"
     ]
    }
   ],
   "source": [
    "print(f'original company list is {companies}')\n",
    "companies.remove('facebook')\n",
    "print(f\"modified company list is {companies}\")"
   ]
  },
  {
   "cell_type": "markdown",
   "metadata": {},
   "source": [
    "22. Remove the middle IT company or companies from the list"
   ]
  },
  {
   "cell_type": "code",
   "execution_count": 34,
   "metadata": {},
   "outputs": [
    {
     "name": "stdout",
     "output_type": "stream",
     "text": [
      "['oracle', 'microsoft', 'apple', 'amazon']\n",
      "['oracle', 'microsoft', 'amazon']\n"
     ]
    }
   ],
   "source": [
    "print(companies)\n",
    "\n",
    "companies.remove(\"apple\")\n",
    "print(companies)"
   ]
  },
  {
   "cell_type": "markdown",
   "metadata": {},
   "source": [
    "23. Remove the last IT company from the list"
   ]
  },
  {
   "cell_type": "code",
   "execution_count": 35,
   "metadata": {},
   "outputs": [
    {
     "name": "stdout",
     "output_type": "stream",
     "text": [
      "['oracle', 'microsoft', 'amazon']\n",
      "modified company list ['oracle', 'microsoft']\n"
     ]
    }
   ],
   "source": [
    "print(companies)\n",
    "companies.remove(\"amazon\")\n",
    "print(\"modified company list\", companies)"
   ]
  },
  {
   "cell_type": "markdown",
   "metadata": {},
   "source": [
    "24. Destroy the IT companies list"
   ]
  },
  {
   "cell_type": "code",
   "execution_count": 36,
   "metadata": {},
   "outputs": [],
   "source": [
    "del companies\n"
   ]
  },
  {
   "cell_type": "markdown",
   "metadata": {},
   "source": [
    "25. Join the following lists:\n",
    "\n",
    "front_end = ['HTML', 'CSS', 'JS', 'React', 'Redux']\n",
    "back_end = ['Node','Express', 'MongoDB']"
   ]
  },
  {
   "cell_type": "code",
   "execution_count": 37,
   "metadata": {},
   "outputs": [
    {
     "name": "stdout",
     "output_type": "stream",
     "text": [
      "['HTML', 'CSS', 'JS', 'React', 'Redux', 'Node', 'Express', 'MongoDB']\n"
     ]
    }
   ],
   "source": [
    "front_end = ['HTML', 'CSS', 'JS', 'React', 'Redux']\n",
    "back_end = ['Node','Express', 'MongoDB']\n",
    "front_and_back_end = front_end + back_end\n",
    "print(front_and_back_end)"
   ]
  },
  {
   "cell_type": "markdown",
   "metadata": {},
   "source": [
    "26. After joining the lists in question 25. Copy the joined list and assign it to a variable full_stack, then insert Python and SQL after Redux."
   ]
  },
  {
   "cell_type": "code",
   "execution_count": 38,
   "metadata": {},
   "outputs": [
    {
     "name": "stdout",
     "output_type": "stream",
     "text": [
      "['HTML', 'CSS', 'JS', 'React', 'Redux', 'python', 'sql', 'Node', 'Express', 'MongoDB']\n"
     ]
    }
   ],
   "source": [
    "full_stack = front_and_back_end.copy()\n",
    "full_stack.insert(5, 'python')\n",
    "full_stack.insert(6, 'sql')\n",
    "print(full_stack)"
   ]
  },
  {
   "cell_type": "markdown",
   "metadata": {},
   "source": [
    "## LEVEL 2"
   ]
  },
  {
   "cell_type": "markdown",
   "metadata": {},
   "source": [
    "1. The following is a list of 10 students ages:\n",
    "ages = [19, 22, 19, 24, 20, 25, 26, 24, 25, 24]\n",
    "i. Sort the list and find the min and max age\n",
    "ii. Add the min age and the max age again to the list\n",
    "iii. Find the median age (one middle item or two middle items divided by two)\n",
    "iv. Find the average age (sum of all items divided by their number )\n",
    "v. Find the range of the ages (max minus min)\n",
    "vi. Compare the value of (min - average) and (max - average), use abs() method"
   ]
  },
  {
   "cell_type": "code",
   "execution_count": 43,
   "metadata": {},
   "outputs": [
    {
     "name": "stdout",
     "output_type": "stream",
     "text": [
      "[19, 19, 20, 22, 24, 24, 24, 25, 25, 26]\n"
     ]
    }
   ],
   "source": [
    "ages = [19, 22, 19, 24, 20, 25, 26, 24, 25, 24]\n",
    "# sorting\n",
    "ages.sort()\n",
    "print(ages)"
   ]
  },
  {
   "cell_type": "code",
   "execution_count": 46,
   "metadata": {},
   "outputs": [
    {
     "name": "stdout",
     "output_type": "stream",
     "text": [
      "the minimum age is 19\n",
      "the maximun age is 26\n"
     ]
    }
   ],
   "source": [
    "#min and max age\n",
    "min_age = min(ages)\n",
    "print('the minimum age is', min_age)\n",
    "max_age = max(ages)\n",
    "print('the maximun age is', max_age)"
   ]
  },
  {
   "cell_type": "code",
   "execution_count": 48,
   "metadata": {},
   "outputs": [
    {
     "name": "stdout",
     "output_type": "stream",
     "text": [
      "[19, 19, 20, 22, 24, 24, 24, 25, 25, 26, 19, 19]\n",
      "[19, 19, 20, 22, 24, 24, 24, 25, 25, 26, 19, 19, 26]\n"
     ]
    }
   ],
   "source": [
    "ages.append(min_age)\n",
    "print(ages)\n",
    "ages.append(max_age)\n",
    "print(ages)"
   ]
  },
  {
   "cell_type": "code",
   "execution_count": 51,
   "metadata": {},
   "outputs": [
    {
     "name": "stdout",
     "output_type": "stream",
     "text": [
      "The median age is 24\n"
     ]
    }
   ],
   "source": [
    "ages.sort()\n",
    "median_age = ages[6]\n",
    "print('The median age is', median_age)\n",
    "\n"
   ]
  },
  {
   "cell_type": "code",
   "execution_count": 50,
   "metadata": {},
   "outputs": [
    {
     "name": "stdout",
     "output_type": "stream",
     "text": [
      "The average age is 22.46153846153846\n"
     ]
    }
   ],
   "source": [
    "#average\n",
    "sum_of_ages = sum(ages)\n",
    "number_of_inputs = len(ages)\n",
    "average_age = sum_of_ages / number_of_inputs\n",
    "print('The average age is', average_age)"
   ]
  },
  {
   "cell_type": "code",
   "execution_count": 52,
   "metadata": {},
   "outputs": [
    {
     "name": "stdout",
     "output_type": "stream",
     "text": [
      "The range is 7\n"
     ]
    }
   ],
   "source": [
    "#Range of ages\n",
    "range_of_ages = max_age - min_age\n",
    "print('The range is', range_of_ages)"
   ]
  },
  {
   "cell_type": "markdown",
   "metadata": {},
   "source": [
    "vi. Compare the value of (min - average) and (max - average), use abs() method"
   ]
  },
  {
   "cell_type": "code",
   "execution_count": 56,
   "metadata": {},
   "outputs": [
    {
     "name": "stdout",
     "output_type": "stream",
     "text": [
      "Maximum minus average is greater\n"
     ]
    }
   ],
   "source": [
    "#Comparision\n",
    "min_minus_average = min_age - average_age\n",
    "max_minus_average = max_age - average_age\n",
    "if min_minus_average > max_minus_average:\n",
    " print('Minimum minus average is greater')\n",
    "elif min_minus_average < max_minus_average:\n",
    " print('Maximum minus average is greater')\n",
    "else:\n",
    " print('they are equal')"
   ]
  },
  {
   "cell_type": "markdown",
   "metadata": {},
   "source": [
    "#THE END"
   ]
  }
 ],
 "metadata": {
  "kernelspec": {
   "display_name": "base",
   "language": "python",
   "name": "python3"
  },
  "language_info": {
   "codemirror_mode": {
    "name": "ipython",
    "version": 3
   },
   "file_extension": ".py",
   "mimetype": "text/x-python",
   "name": "python",
   "nbconvert_exporter": "python",
   "pygments_lexer": "ipython3",
   "version": "3.12.3"
  }
 },
 "nbformat": 4,
 "nbformat_minor": 2
}
