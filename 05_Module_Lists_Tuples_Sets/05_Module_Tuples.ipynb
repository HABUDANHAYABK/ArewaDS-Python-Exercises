{
 "cells": [
  {
   "cell_type": "markdown",
   "metadata": {},
   "source": [
    "# MODULE FIVE (TUPLE)\n",
    "\n",
    "_This is my exercises on tuple module_\n",
    "\n",
    "## Level 1"
   ]
  },
  {
   "cell_type": "markdown",
   "metadata": {},
   "source": [
    "1. Create an empty tuple"
   ]
  },
  {
   "cell_type": "code",
   "execution_count": 1,
   "metadata": {},
   "outputs": [],
   "source": [
    "empty_tuple = ()"
   ]
  },
  {
   "cell_type": "markdown",
   "metadata": {},
   "source": [
    "2. Create a tuple containing names of your sisters and your brothers (imaginary siblings are fine)"
   ]
  },
  {
   "cell_type": "code",
   "execution_count": 2,
   "metadata": {},
   "outputs": [],
   "source": [
    "brothers_and_sisters = ('habiba', 'baffa', 'amina', 'saad', 'nura', 'yusuf')"
   ]
  },
  {
   "cell_type": "markdown",
   "metadata": {},
   "source": [
    "3. Join brothers and sisters tuples and assign it to sibling"
   ]
  },
  {
   "cell_type": "code",
   "execution_count": 3,
   "metadata": {},
   "outputs": [],
   "source": [
    "brothers = ('baff', 'nura', 'saad', 'yusuf')\n",
    "sisters = ('habiba', 'amina', 'zahrau')\n",
    "siblings = brothers + sisters\n"
   ]
  },
  {
   "cell_type": "markdown",
   "metadata": {},
   "source": [
    "4. How many siblings do you have"
   ]
  },
  {
   "cell_type": "code",
   "execution_count": 4,
   "metadata": {},
   "outputs": [
    {
     "name": "stdout",
     "output_type": "stream",
     "text": [
      "I have 7 siblings\n"
     ]
    }
   ],
   "source": [
    "num_of_siblings = len(siblings)\n",
    "print('I have', num_of_siblings, 'siblings')"
   ]
  },
  {
   "cell_type": "markdown",
   "metadata": {},
   "source": [
    "5. Modify the siblings tuple and add the name of your father and mother and assign it to family_members"
   ]
  },
  {
   "cell_type": "code",
   "execution_count": 5,
   "metadata": {},
   "outputs": [
    {
     "name": "stdout",
     "output_type": "stream",
     "text": [
      "This is my beloved family members ('danhaya', 'aisha danhaya', 'baff', 'nura', 'saad', 'yusuf', 'habiba', 'amina', 'zahrau')\n"
     ]
    }
   ],
   "source": [
    "parent = ('danhaya', 'aisha danhaya')\n",
    "family_members = parent + siblings\n",
    "print(\"This is my beloved family members\", family_members)"
   ]
  },
  {
   "cell_type": "markdown",
   "metadata": {},
   "source": [
    "## Level 2"
   ]
  },
  {
   "cell_type": "markdown",
   "metadata": {},
   "source": [
    "1. Unpack siblings and parents from family_members"
   ]
  },
  {
   "cell_type": "markdown",
   "metadata": {},
   "source": [
    "2. Create fruits, vegetables and animal products tuples. Join the three tuples and assign it to a variable called food_stuff_tp"
   ]
  },
  {
   "cell_type": "code",
   "execution_count": 6,
   "metadata": {},
   "outputs": [],
   "source": [
    "fruits = ('banana', 'mango', 'apple', 'orange', 'fineapple')\n",
    "vegetables = ('onion', 'carrot', 'cabbage')\n",
    "animal_products = ('meat', 'milk', 'fats')\n",
    "\n",
    "food_stuff_tp = fruits + vegetables + animal_products"
   ]
  },
  {
   "cell_type": "markdown",
   "metadata": {},
   "source": [
    "3. Change the about food_stuff_tp tuple to a food_stuff_lt list"
   ]
  },
  {
   "cell_type": "code",
   "execution_count": 7,
   "metadata": {},
   "outputs": [
    {
     "data": {
      "text/plain": [
       "list"
      ]
     },
     "execution_count": 7,
     "metadata": {},
     "output_type": "execute_result"
    }
   ],
   "source": [
    "food_stuff_lt = list(food_stuff_tp)\n",
    "type(food_stuff_lt)"
   ]
  },
  {
   "cell_type": "code",
   "execution_count": 8,
   "metadata": {},
   "outputs": [
    {
     "name": "stdout",
     "output_type": "stream",
     "text": [
      "['banana', 'mango', 'apple', 'orange', 'fineapple', 'onion', 'carrot', 'cabbage', 'meat', 'milk', 'fats']\n"
     ]
    }
   ],
   "source": [
    "print(food_stuff_lt)"
   ]
  },
  {
   "cell_type": "markdown",
   "metadata": {},
   "source": [
    "4. Slice out the middle item or items from the food_stuff_tp tuple or food_stuff_lt list"
   ]
  },
  {
   "cell_type": "code",
   "execution_count": 9,
   "metadata": {},
   "outputs": [
    {
     "name": "stdout",
     "output_type": "stream",
     "text": [
      "this is a middle item ['onion']\n"
     ]
    }
   ],
   "source": [
    "middle_item = food_stuff_lt[5:6]\n",
    "print('this is a middle item', middle_item)"
   ]
  },
  {
   "cell_type": "markdown",
   "metadata": {},
   "source": [
    "5. Slice out the first three items and the last three items from food_staff_lt list"
   ]
  },
  {
   "cell_type": "code",
   "execution_count": 11,
   "metadata": {},
   "outputs": [
    {
     "name": "stdout",
     "output_type": "stream",
     "text": [
      "these are the first three items in the list ['banana', 'mango', 'apple']\n",
      "these are the last three items in the list ['meat', 'milk', 'fats']\n"
     ]
    }
   ],
   "source": [
    "first_three_items = food_stuff_lt[0:3]\n",
    "last_three_items = food_stuff_lt[-3:]\n",
    "\n",
    "print('these are the first three items in the list', first_three_items)\n",
    "print('these are the last three items in the list', last_three_items)"
   ]
  },
  {
   "cell_type": "markdown",
   "metadata": {},
   "source": [
    "6. Delete the food_staff_tp tuple completely"
   ]
  },
  {
   "cell_type": "code",
   "execution_count": 12,
   "metadata": {},
   "outputs": [],
   "source": [
    "del food_stuff_tp"
   ]
  },
  {
   "cell_type": "markdown",
   "metadata": {},
   "source": [
    "7. Check if an item exists in tuple"
   ]
  },
  {
   "cell_type": "code",
   "execution_count": 14,
   "metadata": {},
   "outputs": [
    {
     "ename": "NameError",
     "evalue": "name 'food_stuff_tp' is not defined",
     "output_type": "error",
     "traceback": [
      "\u001b[1;31m---------------------------------------------------------------------------\u001b[0m",
      "\u001b[1;31mNameError\u001b[0m                                 Traceback (most recent call last)",
      "Cell \u001b[1;32mIn[14], line 1\u001b[0m\n\u001b[1;32m----> 1\u001b[0m does_mongo_exist \u001b[38;5;241m=\u001b[39m \u001b[38;5;124m'\u001b[39m\u001b[38;5;124mmango\u001b[39m\u001b[38;5;124m'\u001b[39m \u001b[38;5;129;01min\u001b[39;00m \u001b[43mfood_stuff_tp\u001b[49m\n\u001b[0;32m      2\u001b[0m \u001b[38;5;28mprint\u001b[39m(does_mongo_exist)\n",
      "\u001b[1;31mNameError\u001b[0m: name 'food_stuff_tp' is not defined"
     ]
    }
   ],
   "source": [
    "does_mongo_exist = 'mango' in food_stuff_tp\n",
    "print(does_mongo_exist)"
   ]
  },
  {
   "cell_type": "markdown",
   "metadata": {},
   "source": [
    "### this shows the tuple was deleted successfully "
   ]
  },
  {
   "cell_type": "markdown",
   "metadata": {},
   "source": [
    "9. Check if 'Estonia' is a nordic country\n",
    "\n",
    "nordic_countries = ('Denmark', 'Finland','Iceland', 'Norway', 'Sweden')"
   ]
  },
  {
   "cell_type": "code",
   "execution_count": 15,
   "metadata": {},
   "outputs": [
    {
     "name": "stdout",
     "output_type": "stream",
     "text": [
      "False\n"
     ]
    }
   ],
   "source": [
    "nordic_countries = ('Denmark', 'Finland','Iceland', 'Norway', 'Sweden')\n",
    "does_estonia_exist = 'estonia' in nordic_countries\n",
    "print(does_estonia_exist)"
   ]
  },
  {
   "cell_type": "markdown",
   "metadata": {},
   "source": [
    "10. Check if 'Iceland' is a nordic country\n",
    "nordic_countries = ('Denmark', 'Finland','Iceland', 'Norway', 'Sweden')\n"
   ]
  },
  {
   "cell_type": "code",
   "execution_count": 17,
   "metadata": {},
   "outputs": [
    {
     "name": "stdout",
     "output_type": "stream",
     "text": [
      "True\n"
     ]
    }
   ],
   "source": [
    "nordic_countries = ('Denmark', 'Finland','Iceland', 'Norway', 'Sweden')\n",
    "does_iceland_exist = 'Iceland' in nordic_countries\n",
    "print(does_iceland_exist)"
   ]
  },
  {
   "cell_type": "markdown",
   "metadata": {},
   "source": [
    "# THE END"
   ]
  }
 ],
 "metadata": {
  "kernelspec": {
   "display_name": "base",
   "language": "python",
   "name": "python3"
  },
  "language_info": {
   "codemirror_mode": {
    "name": "ipython",
    "version": 3
   },
   "file_extension": ".py",
   "mimetype": "text/x-python",
   "name": "python",
   "nbconvert_exporter": "python",
   "pygments_lexer": "ipython3",
   "version": "3.12.3"
  }
 },
 "nbformat": 4,
 "nbformat_minor": 2
}
