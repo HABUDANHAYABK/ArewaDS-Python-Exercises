{
 "cells": [
  {
   "cell_type": "markdown",
   "metadata": {},
   "source": [
    "# Module Ten Exercises (Clases) "
   ]
  },
  {
   "cell_type": "markdown",
   "metadata": {},
   "source": [
    "## Level 1"
   ]
  },
  {
   "cell_type": "markdown",
   "metadata": {},
   "source": [
    "1. Python has the module called statistics and we can use this module to do all the statistical calculations. However, to learn how to make function and reuse function let us try to develop a program, which calculates the measure of central tendency of a sample (mean, median, mode) and measure of variability (range, variance, standard deviation). In addition to those measures, find the min, max, count, percentile, and frequency distribution of the sample. You can create a class called Statistics and create all the functions that do statistical calculations as methods for the Statistics class. Check the output below.\n",
    "   \n",
    "ages = [31, 26, 34, 37, 27, 26, 32, 32, 26, 27, 27, 24, 32, 33, 27, 25, 26, 38, 37, 31, 34, 24, 33, 29, 26]\n",
    " \n",
    " you output should look like this\n",
    "print(data.describe())\n",
    "Count: 25\n",
    "Sum:  744\n",
    "Min:  24\n",
    "Max:  38\n",
    "Range:  14\n",
    "Mean:  30\n",
    "Median:  29\n",
    "Mode:  (26, 5)\n",
    "Variance:  17.5\n",
    "Standard Deviation:  4.2\n",
    "Frequency Distribution: [(20.0, 26), (16.0, 27), (12.0, 32), (8.0, 37), (8.0, 34), (8.0, 33), (8.0, 31), (8.0, 24), (4.0, 38), (4.0, 29), (4.0, 25)]"
   ]
  },
  {
   "cell_type": "code",
   "execution_count": 14,
   "metadata": {},
   "outputs": [
    {
     "name": "stdout",
     "output_type": "stream",
     "text": [
      "Count: 25\n",
      "Sum:  744\n",
      "Min:  24\n",
      "Max:  38\n",
      "Range:  14\n",
      "Mean:  29.76\n",
      "Median:  29\n",
      "Mode:  [26]\n",
      "Variance:  17.5424\n",
      "Standard Deviation:  4.188364836066696\n",
      "Frequency Distribution:  [(8.0, 31), (20.0, 26), (8.0, 34), (8.0, 37), (16.0, 27), (12.0, 32), (8.0, 24), (8.0, 33), (4.0, 25), (4.0, 38), (4.0, 29)]\n"
     ]
    }
   ],
   "source": [
    "class Statistics:\n",
    "    def __init__(self, data):\n",
    "        self.data = data\n",
    "    \n",
    "    def count(self):\n",
    "        return len(self.data)\n",
    "\n",
    "    def sum(self):\n",
    "        return sum(self.data)\n",
    "\n",
    "    def min(self):\n",
    "        return min(self.data)\n",
    "\n",
    "    def max(self):\n",
    "        return max(self.data)\n",
    "\n",
    "    #def range(self):\n",
    "        return self.max - self.min\n",
    "    def range(self):\n",
    "        return max(self.data) - min(self.data)\n",
    "\n",
    "\n",
    "    def mean(self):\n",
    "        return self.sum() / self.count()\n",
    "\n",
    "    def median(self):\n",
    "        sorted_data = sorted(self.data)\n",
    "        n = len(sorted_data)\n",
    "        if n % 2 == 0:\n",
    "            return (sorted_data[n//2 - 1] + sorted_data[n//2])/2\n",
    "        else:\n",
    "            return sorted_data[n//2]\n",
    "\n",
    "    def mode(self):\n",
    "        frequency_dict = {}\n",
    "        for num in self.data:\n",
    "            frequency_dict[num] = frequency_dict.get(num, 0) + 1\n",
    "        max_frequency = max(frequency_dict.values())\n",
    "        modes = [num for num, freq in frequency_dict.items() if freq == max_frequency]\n",
    "        return modes\n",
    "    \n",
    "    def variance(self):\n",
    "       # mean = mean(self.data)\n",
    "        mean = self.mean()\n",
    "        return sum((x - mean)**2 for x in self.data) / self.count()\n",
    "        \n",
    "\n",
    "    def std(self):\n",
    "        #variance = variance(self.data)\n",
    "        variance = self.variance()\n",
    "        std = variance ** 0.5\n",
    "        return std \n",
    "\n",
    "    def freq_dist(self):\n",
    "        from collections import Counter\n",
    "        data_count = Counter(self.data)\n",
    "        total_count = self.count()\n",
    "        return [(count / total_count * 100, value) for value, count in data_count.items()]\n",
    "    \n",
    "ages = [31, 26, 34, 37, 27, 26, 32, 32, 26, 27, 27, 24, 32, 33, 27, 25, 26, 38, 37, 31, 34, 24, 33, 29, 26]\n",
    "data = Statistics(ages)\n",
    "\n",
    "print('Count:', data.count()) \n",
    "print('Sum: ', data.sum()) \n",
    "print('Min: ', data.min())\n",
    "print('Max: ', data.max())\n",
    "print('Range: ', data.range())\n",
    "print('Mean: ', data.mean())\n",
    "print('Median: ', data.median())\n",
    "print('Mode: ', data.mode())\n",
    "print('Variance: ', data.variance())\n",
    "print('Standard Deviation: ', data.std()) \n",
    "print('Frequency Distribution: ', data.freq_dist())"
   ]
  },
  {
   "cell_type": "markdown",
   "metadata": {},
   "source": [
    "## Level 2"
   ]
  },
  {
   "cell_type": "markdown",
   "metadata": {},
   "source": [
    "1. Create a class called PersonAccount. It has firstname, lastname, incomes, expenses properties and it has total_income, total_expense, account_info, add_income, add_expense and account_balance methods. Incomes is a set of incomes and its description. The same goes for expenses."
   ]
  },
  {
   "cell_type": "code",
   "execution_count": null,
   "metadata": {},
   "outputs": [],
   "source": [
    "class PersonAccount:\n",
    "    def __init__(self, firstname, lastname):\n",
    "        self.firstname = firstname\n",
    "        self.lastname = lastname\n",
    "        self.incomes = {}\n",
    "        self.expenses = {}\n",
    "\n",
    "    def add_income(self, description, amount):\n",
    "        self.incomes[description] = amount\n",
    "\n",
    "    def add_expense(self, description, amount):\n",
    "        self.expenses[description] = amount\n",
    "\n",
    "    def total_income(self):\n",
    "        return sum(self.incomes.values())\n",
    "    \n",
    "    def total_expense(self):\n",
    "        return sum(self.expenses.values())\n",
    "    \n",
    "    def account_balance(self):\n",
    "        return self.total_income() - self.total_expense()\n",
    "    \n",
    "    def account_info(self):\n",
    "        account_holder_info = f\" Account owner: {self.firstname} {self.lastname}\\nAccount Balance: {self.account_balance()}\"\n",
    "\n"
   ]
  }
 ],
 "metadata": {
  "kernelspec": {
   "display_name": "base",
   "language": "python",
   "name": "python3"
  },
  "language_info": {
   "codemirror_mode": {
    "name": "ipython",
    "version": 3
   },
   "file_extension": ".py",
   "mimetype": "text/x-python",
   "name": "python",
   "nbconvert_exporter": "python",
   "pygments_lexer": "ipython3",
   "version": "3.12.3"
  }
 },
 "nbformat": 4,
 "nbformat_minor": 2
}
