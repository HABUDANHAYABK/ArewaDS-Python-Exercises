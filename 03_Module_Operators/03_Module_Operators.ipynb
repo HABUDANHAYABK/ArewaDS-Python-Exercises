{
 "cells": [
  {
   "cell_type": "markdown",
   "metadata": {},
   "source": [
    "# Module three (Operators)\n",
    "\n",
    "## Questions and answers\n",
    "\n",
    "***\n"
   ]
  },
  {
   "cell_type": "code",
   "execution_count": null,
   "metadata": {},
   "outputs": [],
   "source": [
    "Q1. Declare your age as integer variable"
   ]
  },
  {
   "cell_type": "code",
   "execution_count": null,
   "metadata": {},
   "outputs": [],
   "source": [
    "age = 27"
   ]
  },
  {
   "cell_type": "markdown",
   "metadata": {},
   "source": [
    "Q2. Declare your height as a float variable"
   ]
  },
  {
   "cell_type": "code",
   "execution_count": null,
   "metadata": {},
   "outputs": [],
   "source": [
    "height = 5.2"
   ]
  },
  {
   "cell_type": "markdown",
   "metadata": {},
   "source": [
    "Q3. Declare a variable that store a complex number"
   ]
  },
  {
   "cell_type": "code",
   "execution_count": 1,
   "metadata": {},
   "outputs": [],
   "source": [
    "complx_num = (1 + 2j)"
   ]
  },
  {
   "cell_type": "markdown",
   "metadata": {},
   "source": [
    "Q4. Write a script that prompts the user to enter base and height of the triangle and calculate an area of this triangle (area = 0.5 x b x h).\n",
    "\n",
    "Enter base: 20\n",
    "    Enter height: 10\n",
    "    The area of the triangle is 100"
   ]
  },
  {
   "cell_type": "code",
   "execution_count": 6,
   "metadata": {},
   "outputs": [
    {
     "name": "stdout",
     "output_type": "stream",
     "text": [
      "Area_of_Triangle: 100.0 mm2\n"
     ]
    }
   ],
   "source": [
    "b = 20\n",
    "h = 10\n",
    "area_of_triangle= 0.5*b*h\n",
    "print('Area_of_Triangle:',area_of_triangle, 'mm2')\n"
   ]
  },
  {
   "cell_type": "markdown",
   "metadata": {},
   "source": [
    "Q5. Write a script that prompts the user to enter side a, side b, and side c of the triangle. Calculate the perimeter of the triangle (perimeter = a + b + c).\n",
    "Enter side a: 5\n",
    "Enter side b: 4\n",
    "Enter side c: 3\n",
    "The perimeter of the triangle is 12"
   ]
  },
  {
   "cell_type": "code",
   "execution_count": 8,
   "metadata": {},
   "outputs": [
    {
     "name": "stdout",
     "output_type": "stream",
     "text": [
      "12\n"
     ]
    }
   ],
   "source": [
    "a = 5\n",
    "b = 4\n",
    "c = 3\n",
    "perimeter = a + b + c\n",
    "print(perimeter, )\n"
   ]
  },
  {
   "cell_type": "markdown",
   "metadata": {},
   "source": [
    "Q7. Get length and width of a rectangle using prompt. Calculate its area (area = length x width) and perimeter (perimeter = 2 x (length + width))"
   ]
  },
  {
   "cell_type": "code",
   "execution_count": 12,
   "metadata": {},
   "outputs": [
    {
     "name": "stdout",
     "output_type": "stream",
     "text": [
      "Area_of_rectangle:  20 mm2\n",
      "Perimeter: 18 m\n"
     ]
    }
   ],
   "source": [
    "length = 5\n",
    "width = 4\n",
    "area_of_rectangle = length * width\n",
    "perimeter = 2 * (length + width)\n",
    "print('Area_of_rectangle: ', area_of_rectangle, 'mm2')\n",
    "print('Perimeter:', perimeter, 'm')"
   ]
  },
  {
   "cell_type": "markdown",
   "metadata": {},
   "source": [
    "Q8. Get radius of a circle using prompt. Calculate the area (area = pi x r x r) and circumference (c = 2 x pi x r) where pi = 3.14."
   ]
  },
  {
   "cell_type": "code",
   "execution_count": 15,
   "metadata": {},
   "outputs": [
    {
     "name": "stdout",
     "output_type": "stream",
     "text": [
      "Area_of_circle: 12.56 mm2\n",
      " Circumference_of_circle: 12.56 m\n"
     ]
    }
   ],
   "source": [
    "radius = 2\n",
    "PI = 3.14\n",
    "area_of_circle = PI*radius**2\n",
    "circumference_of_circle = 2*PI*radius\n",
    "print('Area_of_circle:',area_of_circle, 'mm2')\n",
    "print(' Circumference_of_circle:',circumference_of_circle, 'm')"
   ]
  },
  {
   "cell_type": "markdown",
   "metadata": {},
   "source": [
    "Q9. Calculate the slope, x-intercept and y-intercept of y = 2x -2"
   ]
  },
  {
   "cell_type": "code",
   "execution_count": 18,
   "metadata": {},
   "outputs": [
    {
     "name": "stdout",
     "output_type": "stream",
     "text": [
      "slope (a): 2\n",
      "Y-incercept (b): -2\n",
      "X-intercept: 1.0\n"
     ]
    }
   ],
   "source": [
    "# y = 2x - 2\n",
    "# a is the coeffient of x (slope)\n",
    "a = 2\n",
    "# b is the constant term (y-intercept)\n",
    "b = -2\n",
    "x_intercept = -b / a\n",
    "\n",
    "print(\"slope (a):\", a)\n",
    "print(\"Y-incercept (b):\", b)\n",
    "print(\"X-intercept:\", x_intercept )"
   ]
  },
  {
   "cell_type": "markdown",
   "metadata": {},
   "source": [
    "Q10. Slope is (m = y2-y1/x2-x1). Find the slope and Euclidean distance between point (2, 2) and point (6,10)"
   ]
  },
  {
   "cell_type": "code",
   "execution_count": 19,
   "metadata": {},
   "outputs": [
    {
     "name": "stdout",
     "output_type": "stream",
     "text": [
      "Slope (m): 2.0\n",
      "Distance (s): 80\n"
     ]
    }
   ],
   "source": [
    "# slope m = y2 -y1/ x2 - x1\n",
    "# point A (2, 2) and ponit B(6, 10)\n",
    "x_1, y_1 = 2, 2\n",
    "x_2, y_2 = 6, 10\n",
    "\n",
    "m = ((y_2 - y_1) / (x_2 -x_1))\n",
    "s = ((y_2 - y_1)**2 + (x_2 - x_1)**2)\n",
    "\n",
    "print(\"Slope (m):\", m)\n",
    "print(\"Distance (s):\", s,)\n",
    "\n"
   ]
  },
  {
   "cell_type": "markdown",
   "metadata": {},
   "source": [
    "Q11. Compare the slopes in tasks 8 and 9"
   ]
  },
  {
   "cell_type": "code",
   "execution_count": 22,
   "metadata": {},
   "outputs": [
    {
     "name": "stdout",
     "output_type": "stream",
     "text": [
      "The slopes are equal\n"
     ]
    }
   ],
   "source": [
    "if a == m:\n",
    " print(\"The slopes are equal\")\n",
    "elif a > m:\n",
    " print(\"Slope a is greater than m\")\n",
    "else:\n",
    " print(\"slope a is less than m\")"
   ]
  },
  {
   "cell_type": "markdown",
   "metadata": {},
   "source": [
    "Q12. Calculate the value of y (y = x^2 + 6x + 9). Try to use different x values and figure out at what x value y is going to be 0."
   ]
  },
  {
   "cell_type": "code",
   "execution_count": 23,
   "metadata": {},
   "outputs": [
    {
     "name": "stdout",
     "output_type": "stream",
     "text": [
      "x = -3, y =0\n",
      "x = -2, y =1\n",
      "x = -1, y =4\n",
      "x = 0, y =9\n",
      "x = 1, y =16\n",
      "x = 2, y =25\n",
      "x = 3, y =36\n"
     ]
    }
   ],
   "source": [
    "# y = x^2  6x + 9\n",
    "def equation(x):\n",
    "    return x**2 + 6*x + 9\n",
    "x_values = [-3, -2, -1, 0, 1, 2, 3]\n",
    "for x in x_values:\n",
    "    y = equation(x)\n",
    "    print(f\"x = {x}, y ={y}\")\n",
    "\n",
    "if equation(x) == 0:\n",
    "    print(f'the value of x where y is 0 is x ={x}')\n"
   ]
  },
  {
   "cell_type": "markdown",
   "metadata": {},
   "source": [
    "Q13. Find the length of 'python' and 'dragon' and make a falsy comparison statement"
   ]
  },
  {
   "cell_type": "code",
   "execution_count": 27,
   "metadata": {},
   "outputs": [
    {
     "name": "stdout",
     "output_type": "stream",
     "text": [
      "False\n"
     ]
    }
   ],
   "source": [
    "print(len(\"python\") >len(\"dragon\"))\n"
   ]
  },
  {
   "cell_type": "code",
   "execution_count": null,
   "metadata": {},
   "outputs": [],
   "source": []
  }
 ],
 "metadata": {
  "kernelspec": {
   "display_name": "base",
   "language": "python",
   "name": "python3"
  },
  "language_info": {
   "codemirror_mode": {
    "name": "ipython",
    "version": 3
   },
   "file_extension": ".py",
   "mimetype": "text/x-python",
   "name": "python",
   "nbconvert_exporter": "python",
   "pygments_lexer": "ipython3",
   "version": "3.12.3"
  }
 },
 "nbformat": 4,
 "nbformat_minor": 2
}
