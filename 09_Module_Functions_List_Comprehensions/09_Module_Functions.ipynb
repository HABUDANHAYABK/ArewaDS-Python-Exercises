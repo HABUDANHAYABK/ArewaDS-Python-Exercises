{
 "cells": [
  {
   "cell_type": "markdown",
   "metadata": {},
   "source": [
    "# Module Nine (Functions Exercises)\n",
    "\n",
    "_This is my exercises for function module_"
   ]
  },
  {
   "cell_type": "markdown",
   "metadata": {},
   "source": [
    "## level 1"
   ]
  },
  {
   "cell_type": "markdown",
   "metadata": {},
   "source": [
    "1. Declare a function add_two_numbers. It takes two parameters and it returns a sum."
   ]
  },
  {
   "cell_type": "code",
   "execution_count": 5,
   "metadata": {},
   "outputs": [
    {
     "name": "stdout",
     "output_type": "stream",
     "text": [
      "7\n"
     ]
    }
   ],
   "source": [
    "def add_two_numbers(num1, num2):\n",
    "    sum_of_nums = num1 + num2\n",
    "    return sum_of_nums\n",
    "\n",
    "print(add_two_numbers(2, 5))"
   ]
  },
  {
   "cell_type": "markdown",
   "metadata": {},
   "source": [
    "2. Area of a circle is calculated as follows: area = π x r x r. Write a function that calculates area_of_circle."
   ]
  },
  {
   "cell_type": "code",
   "execution_count": 6,
   "metadata": {},
   "outputs": [
    {
     "name": "stdout",
     "output_type": "stream",
     "text": [
      "78.55\n"
     ]
    }
   ],
   "source": [
    "def area_of_circle(r):\n",
    "    \"\"\"determine the area of a circle with a given radius.\"\"\"\n",
    "    PI = 3.142\n",
    "    area = PI * r ** 2\n",
    "    return area\n",
    "print(area_of_circle(5))"
   ]
  },
  {
   "cell_type": "markdown",
   "metadata": {},
   "source": [
    "3. Write a function called add_all_nums which takes arbitrary number of arguments and sums all the arguments. Check if all the list items are number types. If not do give a reasonable feedback"
   ]
  },
  {
   "cell_type": "code",
   "execution_count": 8,
   "metadata": {},
   "outputs": [
    {
     "name": "stdout",
     "output_type": "stream",
     "text": [
      "43\n"
     ]
    }
   ],
   "source": [
    "def add_all_nums(*nums):\n",
    "    total = 0\n",
    "    for num in (nums):\n",
    "        total += num\n",
    "    return total\n",
    "print(add_all_nums(2, 3, 5, 6, 8, 9, 10))"
   ]
  },
  {
   "cell_type": "markdown",
   "metadata": {},
   "source": [
    "4. Temperature in °C can be converted to °F using this formula: °F = (°C x 9/5) + 32. Write a function which converts °C to °F, convert_celsius_to-fahrenheit."
   ]
  },
  {
   "cell_type": "code",
   "execution_count": 10,
   "metadata": {},
   "outputs": [
    {
     "data": {
      "text/plain": [
       "132.8"
      ]
     },
     "execution_count": 10,
     "metadata": {},
     "output_type": "execute_result"
    }
   ],
   "source": [
    "def convert_celsius_to_fahrenheit():\n",
    "    celsius = int(input(\"Enter the temperature in celsius\"))\n",
    "    fahrenheit = (celsius * 9 / 5) + 32\n",
    "    return fahrenheit\n",
    "convert_celsius_to_fahrenheit()"
   ]
  },
  {
   "cell_type": "markdown",
   "metadata": {},
   "source": [
    "5. Write a function called check-season, it takes a month parameter and returns the season: Autumn, Winter, Spring or Summer."
   ]
  },
  {
   "cell_type": "code",
   "execution_count": 12,
   "metadata": {},
   "outputs": [
    {
     "name": "stdout",
     "output_type": "stream",
     "text": [
      "The season is Winter\n"
     ]
    }
   ],
   "source": [
    "def check_season(month):\n",
    "    autumn = ['September', 'October', 'November']\n",
    "    winter = ['December', 'January', 'February']\n",
    "    spring = ['March', 'April', 'May']\n",
    "    summer = ['June', 'July', 'August']\n",
    "    if month in autumn:\n",
    "        print('The season is Autumn')\n",
    "    elif month in winter:\n",
    "        print('The season is Winter')\n",
    "    elif month in spring:\n",
    "        print('The season is Spring')\n",
    "    else:\n",
    "        print('The season is Summer')\n",
    "check_season('January')"
   ]
  },
  {
   "cell_type": "markdown",
   "metadata": {},
   "source": [
    "6. Write a function called calculate_slope which return the slope of a linear equation"
   ]
  },
  {
   "cell_type": "code",
   "execution_count": 15,
   "metadata": {},
   "outputs": [
    {
     "data": {
      "text/plain": [
       "-1.0"
      ]
     },
     "execution_count": 15,
     "metadata": {},
     "output_type": "execute_result"
    }
   ],
   "source": [
    "def calculate_slope():\n",
    "    \"\"\"Returns the slope of a linear equation\"\"\"\n",
    "    x_1= int(input(\"Enter the value of x1\"))\n",
    "    x_2 = int(input(\"Enter the value of x_2\"))\n",
    "    y_1 = int(input(\"Enter the value of y1\"))\n",
    "    y_2 = int(input(\"Enter the value of y2\"))\n",
    "    slope = (y_2 -y_1)/(x_2 - x_1)\n",
    "    return slope\n",
    "slope_m = calculate_slope\n",
    "calculate_slope()"
   ]
  },
  {
   "cell_type": "markdown",
   "metadata": {},
   "source": [
    "7. Quadratic equation is calculated as follows: ax² + bx + c = 0. Write a function which calculates solution set of a quadratic equation, solve_quadratic_eqn."
   ]
  },
  {
   "cell_type": "code",
   "execution_count": 18,
   "metadata": {},
   "outputs": [
    {
     "name": "stdout",
     "output_type": "stream",
     "text": [
      "-2.0\n",
      "-3.0\n"
     ]
    }
   ],
   "source": [
    "def solve_quadratic_eqn(a, b, c):\n",
    "    \"\"\"solve quadratic equation\"\"\"\n",
    "    x1 =((-b) + (b**2 - 4*a*c)**0.5)/2*a\n",
    "    return x1  \n",
    "    \n",
    "def solve_quadratic_eqn_2(a, b, c):\n",
    "    x2 = ((-b) - (b**2 - 4*a*c)**0.5)/2*a\n",
    "    return x2 \n",
    "\n",
    "solution_1 = solve_quadratic_eqn(1, 5, 6)\n",
    "solution_2 = solve_quadratic_eqn_2(1, 5, 6)\n",
    "print(solution_1)\n",
    "print(solution_2)"
   ]
  },
  {
   "cell_type": "markdown",
   "metadata": {},
   "source": [
    "8. Declare a function named print_list. It takes a list as a parameter and it prints out each element of the list."
   ]
  },
  {
   "cell_type": "code",
   "execution_count": 20,
   "metadata": {},
   "outputs": [
    {
     "name": "stdout",
     "output_type": "stream",
     "text": [
      "The following are items in the list\n",
      "Biro\n",
      "pen\n",
      "book\n"
     ]
    }
   ],
   "source": [
    "def print_list(my_list):\n",
    "    \"\"\"print out each element of the list\"\"\"\n",
    "    print(\"The following are items in the list\")\n",
    "    for item in my_list:\n",
    "        print(item)\n",
    "lists = ['Biro', 'pen', 'book']\n",
    "print_list(lists)\n",
    "\n",
    "\n"
   ]
  },
  {
   "cell_type": "markdown",
   "metadata": {},
   "source": [
    "9. Declare a function named reverse_list. It takes an array as a parameter and it returns the reverse of the array (use loops).\n",
    "\n",
    "print(reverse_list([1, 2, 3, 4, 5]))\n",
    "# [5, 4, 3, 2, 1]\n",
    "print(reverse_list1([\"A\", \"B\", \"C\"]))\n",
    "# [\"C\", \"B\", \"A\"]\n"
   ]
  }
 ],
 "metadata": {
  "kernelspec": {
   "display_name": "base",
   "language": "python",
   "name": "python3"
  },
  "language_info": {
   "codemirror_mode": {
    "name": "ipython",
    "version": 3
   },
   "file_extension": ".py",
   "mimetype": "text/x-python",
   "name": "python",
   "nbconvert_exporter": "python",
   "pygments_lexer": "ipython3",
   "version": "3.12.3"
  }
 },
 "nbformat": 4,
 "nbformat_minor": 2
}
