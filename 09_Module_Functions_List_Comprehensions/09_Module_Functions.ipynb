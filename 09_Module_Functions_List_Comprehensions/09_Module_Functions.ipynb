{
 "cells": [
  {
   "cell_type": "markdown",
   "metadata": {},
   "source": [
    "# Module Nine (Functions Exercises)\n",
    "\n",
    "_This is my exercises for function module_"
   ]
  },
  {
   "cell_type": "markdown",
   "metadata": {},
   "source": [
    "## level 1"
   ]
  },
  {
   "cell_type": "markdown",
   "metadata": {},
   "source": [
    "1. Declare a function add_two_numbers. It takes two parameters and it returns a sum."
   ]
  },
  {
   "cell_type": "code",
   "execution_count": 5,
   "metadata": {},
   "outputs": [
    {
     "name": "stdout",
     "output_type": "stream",
     "text": [
      "7\n"
     ]
    }
   ],
   "source": [
    "def add_two_numbers(num1, num2):\n",
    "    sum_of_nums = num1 + num2\n",
    "    return sum_of_nums\n",
    "\n",
    "print(add_two_numbers(2, 5))"
   ]
  },
  {
   "cell_type": "markdown",
   "metadata": {},
   "source": [
    "2. Area of a circle is calculated as follows: area = π x r x r. Write a function that calculates area_of_circle."
   ]
  },
  {
   "cell_type": "code",
   "execution_count": 6,
   "metadata": {},
   "outputs": [
    {
     "name": "stdout",
     "output_type": "stream",
     "text": [
      "78.55\n"
     ]
    }
   ],
   "source": [
    "def area_of_circle(r):\n",
    "    \"\"\"determine the area of a circle with a given radius.\"\"\"\n",
    "    PI = 3.142\n",
    "    area = PI * r ** 2\n",
    "    return area\n",
    "print(area_of_circle(5))"
   ]
  },
  {
   "cell_type": "markdown",
   "metadata": {},
   "source": [
    "3. Write a function called add_all_nums which takes arbitrary number of arguments and sums all the arguments. Check if all the list items are number types. If not do give a reasonable feedback"
   ]
  },
  {
   "cell_type": "code",
   "execution_count": 8,
   "metadata": {},
   "outputs": [
    {
     "name": "stdout",
     "output_type": "stream",
     "text": [
      "43\n"
     ]
    }
   ],
   "source": [
    "def add_all_nums(*nums):\n",
    "    total = 0\n",
    "    for num in (nums):\n",
    "        total += num\n",
    "    return total\n",
    "print(add_all_nums(2, 3, 5, 6, 8, 9, 10))"
   ]
  },
  {
   "cell_type": "markdown",
   "metadata": {},
   "source": [
    "4. Temperature in °C can be converted to °F using this formula: °F = (°C x 9/5) + 32. Write a function which converts °C to °F, convert_celsius_to-fahrenheit."
   ]
  },
  {
   "cell_type": "code",
   "execution_count": 10,
   "metadata": {},
   "outputs": [
    {
     "data": {
      "text/plain": [
       "132.8"
      ]
     },
     "execution_count": 10,
     "metadata": {},
     "output_type": "execute_result"
    }
   ],
   "source": [
    "def convert_celsius_to_fahrenheit():\n",
    "    celsius = int(input(\"Enter the temperature in celsius\"))\n",
    "    fahrenheit = (celsius * 9 / 5) + 32\n",
    "    return fahrenheit\n",
    "convert_celsius_to_fahrenheit()"
   ]
  },
  {
   "cell_type": "markdown",
   "metadata": {},
   "source": [
    "5. Write a function called check-season, it takes a month parameter and returns the season: Autumn, Winter, Spring or Summer."
   ]
  },
  {
   "cell_type": "code",
   "execution_count": 12,
   "metadata": {},
   "outputs": [
    {
     "name": "stdout",
     "output_type": "stream",
     "text": [
      "The season is Winter\n"
     ]
    }
   ],
   "source": [
    "def check_season(month):\n",
    "    autumn = ['September', 'October', 'November']\n",
    "    winter = ['December', 'January', 'February']\n",
    "    spring = ['March', 'April', 'May']\n",
    "    summer = ['June', 'July', 'August']\n",
    "    if month in autumn:\n",
    "        print('The season is Autumn')\n",
    "    elif month in winter:\n",
    "        print('The season is Winter')\n",
    "    elif month in spring:\n",
    "        print('The season is Spring')\n",
    "    else:\n",
    "        print('The season is Summer')\n",
    "check_season('January')"
   ]
  },
  {
   "cell_type": "markdown",
   "metadata": {},
   "source": [
    "6. Write a function called calculate_slope which return the slope of a linear equation"
   ]
  },
  {
   "cell_type": "code",
   "execution_count": 15,
   "metadata": {},
   "outputs": [
    {
     "data": {
      "text/plain": [
       "-1.0"
      ]
     },
     "execution_count": 15,
     "metadata": {},
     "output_type": "execute_result"
    }
   ],
   "source": [
    "def calculate_slope():\n",
    "    \"\"\"Returns the slope of a linear equation\"\"\"\n",
    "    x_1= int(input(\"Enter the value of x1\"))\n",
    "    x_2 = int(input(\"Enter the value of x_2\"))\n",
    "    y_1 = int(input(\"Enter the value of y1\"))\n",
    "    y_2 = int(input(\"Enter the value of y2\"))\n",
    "    slope = (y_2 -y_1)/(x_2 - x_1)\n",
    "    return slope\n",
    "slope_m = calculate_slope\n",
    "calculate_slope()"
   ]
  },
  {
   "cell_type": "markdown",
   "metadata": {},
   "source": [
    "7. Quadratic equation is calculated as follows: ax² + bx + c = 0. Write a function which calculates solution set of a quadratic equation, solve_quadratic_eqn."
   ]
  },
  {
   "cell_type": "code",
   "execution_count": 18,
   "metadata": {},
   "outputs": [
    {
     "name": "stdout",
     "output_type": "stream",
     "text": [
      "-2.0\n",
      "-3.0\n"
     ]
    }
   ],
   "source": [
    "def solve_quadratic_eqn(a, b, c):\n",
    "    \"\"\"solve quadratic equation\"\"\"\n",
    "    x1 =((-b) + (b**2 - 4*a*c)**0.5)/2*a\n",
    "    return x1  \n",
    "    \n",
    "def solve_quadratic_eqn_2(a, b, c):\n",
    "    x2 = ((-b) - (b**2 - 4*a*c)**0.5)/2*a\n",
    "    return x2 \n",
    "\n",
    "solution_1 = solve_quadratic_eqn(1, 5, 6)\n",
    "solution_2 = solve_quadratic_eqn_2(1, 5, 6)\n",
    "print(solution_1)\n",
    "print(solution_2)"
   ]
  },
  {
   "cell_type": "markdown",
   "metadata": {},
   "source": [
    "8. Declare a function named print_list. It takes a list as a parameter and it prints out each element of the list."
   ]
  },
  {
   "cell_type": "code",
   "execution_count": 20,
   "metadata": {},
   "outputs": [
    {
     "name": "stdout",
     "output_type": "stream",
     "text": [
      "The following are items in the list\n",
      "Biro\n",
      "pen\n",
      "book\n"
     ]
    }
   ],
   "source": [
    "def print_list(my_list):\n",
    "    \"\"\"print out each element of the list\"\"\"\n",
    "    print(\"The following are items in the list\")\n",
    "    for item in my_list:\n",
    "        print(item)\n",
    "lists = ['Biro', 'pen', 'book']\n",
    "print_list(lists)\n",
    "\n",
    "\n"
   ]
  },
  {
   "cell_type": "markdown",
   "metadata": {},
   "source": [
    "9. Declare a function named reverse_list. It takes an array as a parameter and it returns the reverse of the array (use loops).\n",
    "\n",
    "print(reverse_list([1, 2, 3, 4, 5]))\n",
    " [5, 4, 3, 2, 1]\n",
    "print(reverse_list1([\"A\", \"B\", \"C\"]))\n",
    " [\"C\", \"B\", \"A\"]\n"
   ]
  },
  {
   "cell_type": "code",
   "execution_count": 3,
   "metadata": {},
   "outputs": [
    {
     "name": "stdout",
     "output_type": "stream",
     "text": [
      "[5, 4, 3, 2, 1]\n"
     ]
    }
   ],
   "source": [
    "def reversed_lst(nums):\n",
    "    \"\"\"returned numbers in reversed order\"\"\"\n",
    "    reversed_list = nums[::-1]\n",
    "    return reversed_list\n",
    "print(reversed_lst([1,2,3,4,5]))"
   ]
  },
  {
   "cell_type": "code",
   "execution_count": 2,
   "metadata": {},
   "outputs": [
    {
     "name": "stdout",
     "output_type": "stream",
     "text": [
      "['C', 'B', 'A']\n"
     ]
    }
   ],
   "source": [
    "def reversed_lst1(strngs):\n",
    "    \"\"\"returned reversed string \"\"\"\n",
    "    reversed_list1 = strngs[::-1]\n",
    "    return reversed_list1\n",
    "print(reversed_lst1([\"A\", \"B\", \"C\"]))"
   ]
  },
  {
   "cell_type": "markdown",
   "metadata": {},
   "source": [
    "10. Declare a function named capitalize_list_items. It takes a list as a parameter and it returns a capitalized list of items"
   ]
  },
  {
   "cell_type": "code",
   "execution_count": 5,
   "metadata": {},
   "outputs": [
    {
     "name": "stdout",
     "output_type": "stream",
     "text": [
      "['UMAR', 'USMAN', 'ABBA']\n"
     ]
    }
   ],
   "source": [
    "def capitalize_list_items(names):\n",
    "    \"\"\"\"Returns capitalized list of items\"\"\"\n",
    "    return [item.upper() for item in names]\n",
    "    \n",
    "print(capitalize_list_items([\"umar\", \"usman\", \"abba\"]))"
   ]
  },
  {
   "cell_type": "markdown",
   "metadata": {},
   "source": [
    "11. Declare a function named add_item. It takes a list and an item parameters. It returns a list with the item added at the end.\n",
    "food_staff = ['Potato', 'Tomato', 'Mango', 'Milk']\n",
    "print(add_item(food_staff, 'Meat'))     # ['Potato', 'Tomato', 'Mango', 'Milk','Meat']\n",
    "numbers = [2, 3, 7, 9]\n",
    "print(add_item(numbers, 5))      [2, 3, 7, 9, 5]\n"
   ]
  },
  {
   "cell_type": "code",
   "execution_count": 9,
   "metadata": {},
   "outputs": [
    {
     "name": "stdout",
     "output_type": "stream",
     "text": [
      "['potato', 'tomato', 'mango', 'milk', 'meat']\n",
      "[2, 3, 7, 9, 5]\n"
     ]
    }
   ],
   "source": [
    "def add_item(lst, item):\n",
    "    \"\"\"Returns a list with the parameter added at the end\"\"\"\n",
    "    return lst + [item]\n",
    "food_stuff = ['potato', 'tomato', 'mango', 'milk']\n",
    "print(add_item(food_stuff, 'meat'))\n",
    "numbers = [2, 3, 7, 9]\n",
    "print(add_item(numbers, 5))"
   ]
  },
  {
   "cell_type": "markdown",
   "metadata": {},
   "source": [
    "12. Declare a function named remove_item. It takes a list and an item parameters. It returns a list with the item removed from it.\n",
    "food_staff = ['Potato', 'Tomato', 'Mango', 'Milk']\n",
    "print(remove_item(food_staff, 'Mango'))  # ['Potato', 'Tomato', 'Milk'];\n",
    "numbers = [2, 3, 7, 9]\n",
    "print(remove_item(numbers, 3))  # [2, 7, 9]"
   ]
  },
  {
   "cell_type": "code",
   "execution_count": 13,
   "metadata": {},
   "outputs": [
    {
     "name": "stdout",
     "output_type": "stream",
     "text": [
      "['potato', 'tomato', 'milk']\n",
      "[2, 7, 9]\n"
     ]
    }
   ],
   "source": [
    "def removed_item(lst, item):\n",
    "    \"\"\"Returns a list with the item removed from it\"\"\"\n",
    "    lst.remove(item)\n",
    "    return lst\n",
    "\n",
    "food_stuff = ['potato', 'tomato', 'mango', 'milk']\n",
    "print(removed_item(food_stuff, 'mango'))\n",
    "numbers =[2, 3, 7, 9]\n",
    "print(removed_item(numbers, 3))\n"
   ]
  },
  {
   "cell_type": "markdown",
   "metadata": {},
   "source": [
    "13. Declare a function named sum_of_numbers. It takes a number parameter and it adds all the numbers in that range.\n",
    "print(sum_of_numbers(5))  # 15\n",
    "print(sum_of_numbers(10)) # 55\n",
    "print(sum_of_numbers(100)) # 5050"
   ]
  },
  {
   "cell_type": "code",
   "execution_count": 33,
   "metadata": {},
   "outputs": [
    {
     "name": "stdout",
     "output_type": "stream",
     "text": [
      "15\n",
      "55\n",
      "5050\n"
     ]
    }
   ],
   "source": [
    "def sum_of_numbers(n):\n",
    "    \"\"\"adds all the numbers in that range (i).\"\"\"\n",
    "    return sum(range(n + 1))\n",
    "print(sum_of_numbers(5))\n",
    "print(sum_of_numbers(10))\n",
    "print(sum_of_numbers(100))"
   ]
  },
  {
   "cell_type": "markdown",
   "metadata": {},
   "source": [
    "14. Declare a function named sum_of_odds. It takes a number parameter and it adds all the odd numbers in that range."
   ]
  },
  {
   "cell_type": "code",
   "execution_count": 27,
   "metadata": {},
   "outputs": [
    {
     "name": "stdout",
     "output_type": "stream",
     "text": [
      "25\n"
     ]
    }
   ],
   "source": [
    "def sum_of_odds(n):\n",
    "    \"\"\"It takes a number parameter and it adds all the odd numbers in that range\"\"\"\n",
    "    nums = list(range(n))\n",
    "    odd_nums =[]\n",
    "    for num in nums:\n",
    "        if num % 2 != 0:\n",
    "            odd_nums.append(num)\n",
    "    print(sum(odd_nums))\n",
    "sum_of_odds(10)\n"
   ]
  },
  {
   "cell_type": "markdown",
   "metadata": {},
   "source": [
    "15. Declare a function named sum_of_even. It takes a number parameter and it adds all the even numbers in that - range."
   ]
  },
  {
   "cell_type": "code",
   "execution_count": 28,
   "metadata": {},
   "outputs": [
    {
     "name": "stdout",
     "output_type": "stream",
     "text": [
      "90\n"
     ]
    }
   ],
   "source": [
    "def sum_of_even(n):\n",
    "    \"\"\"Returns sum of even numbers within the range.\"\"\"\n",
    "    nums = list(range(n))\n",
    "    even_nums = []\n",
    "    for num in nums:\n",
    "        if num % 2 == 0:\n",
    "            even_nums.append(num)\n",
    "    print(sum(even_nums))\n",
    "sum_of_even(20)\n"
   ]
  },
  {
   "cell_type": "markdown",
   "metadata": {},
   "source": [
    "## LEVEL 2"
   ]
  },
  {
   "cell_type": "markdown",
   "metadata": {},
   "source": [
    "1. Declare a function named evens_and_odds . It takes a positive integer as parameter and it counts number of evens and odds in the number.\n",
    "    print(evens_and_odds(100))\n",
    "\n",
    "     The number of odds are 50.\n",
    "     \n",
    "     The number of evens are 51."
   ]
  },
  {
   "cell_type": "code",
   "execution_count": 30,
   "metadata": {},
   "outputs": [
    {
     "name": "stdout",
     "output_type": "stream",
     "text": [
      "The number of odds are 50\n",
      "\n",
      "The number of evens are 51\n"
     ]
    }
   ],
   "source": [
    "def even_and_odd(n):\n",
    "    \"\"\"It counts number of even and odds in the number\"\"\"\n",
    "    nums = list(range(n + 1))\n",
    "    even_nums = []\n",
    "    odd_nums = []\n",
    "    for num in nums:\n",
    "        if num % 2 == 0:\n",
    "            even_nums.append(num)\n",
    "        else:\n",
    "            odd_nums.append(num)\n",
    "    print(f\"The number of odds are {len(odd_nums)}\")\n",
    "    print(f\"\\nThe number of evens are {len(even_nums)}\")\n",
    "even_and_odd(100)"
   ]
  },
  {
   "cell_type": "markdown",
   "metadata": {},
   "source": [
    "2. Call your function factorial, it takes a whole number as a parameter and it return a factorial of the number"
   ]
  },
  {
   "cell_type": "code",
   "execution_count": null,
   "metadata": {},
   "outputs": [],
   "source": [
    "def factorial(n):\n",
    "    \"\"\"Returns a factorial of the number\"\"\"\n",
    "    for i in range(1, n + 1):\n",
    "        result *= i\n",
    "        return result\n",
    "    print(result)\n",
    "factorial(5)"
   ]
  },
  {
   "cell_type": "markdown",
   "metadata": {},
   "source": [
    "3. Call your function is_empty, it takes a parameter and it checks if it is empty or not"
   ]
  },
  {
   "cell_type": "code",
   "execution_count": 35,
   "metadata": {},
   "outputs": [
    {
     "name": "stdout",
     "output_type": "stream",
     "text": [
      "False\n"
     ]
    }
   ],
   "source": [
    "def is_empty(n):\n",
    "    \"\"\"It checks if it is empty or not\"\"\"\n",
    "    return len(n) == 0\n",
    "print(is_empty('hello'))"
   ]
  },
  {
   "cell_type": "markdown",
   "metadata": {},
   "source": [
    "4. Write different functions which take lists. They should calculate_mean, calculate_median, calculate_mode, calculate_range, calculate_variance, calculate_std (standard deviation)"
   ]
  },
  {
   "cell_type": "code",
   "execution_count": 36,
   "metadata": {},
   "outputs": [
    {
     "name": "stdout",
     "output_type": "stream",
     "text": [
      "5.0\n"
     ]
    }
   ],
   "source": [
    "# Mean\n",
    "def calculate_mean(lst):\n",
    "    \"\"\"calculate mean of a list of numbers\"\"\"\n",
    "    sum_of_nums = sum(lst)\n",
    "    mean = sum_of_nums / len(lst)\n",
    "    return mean\n",
    "print(calculate_mean([1,2,3,4,5,6,7,8,9]))"
   ]
  },
  {
   "cell_type": "code",
   "execution_count": 37,
   "metadata": {},
   "outputs": [
    {
     "name": "stdout",
     "output_type": "stream",
     "text": [
      "5\n"
     ]
    }
   ],
   "source": [
    "# Median\n",
    "def calculate_median(lst):\n",
    "    \"\"\"Calculate median of a list of numbers\"\"\"\n",
    "    sorted_lst = sorted(lst)\n",
    "    n = len(sorted_lst)\n",
    "    if n % 2 == 0:\n",
    "        return (sorted_lst[n//2 - 1] + sorted_lst[n//2])/2\n",
    "    else:\n",
    "        return sorted_lst[n//2]\n",
    "print(calculate_median([1,2,3,4,5,6,7,8,9]))\n"
   ]
  },
  {
   "cell_type": "code",
   "execution_count": 38,
   "metadata": {},
   "outputs": [
    {
     "name": "stdout",
     "output_type": "stream",
     "text": [
      "[8]\n"
     ]
    }
   ],
   "source": [
    "#Mode\n",
    "def calculate_mode(lst):\n",
    "    \"\"\"calculate mode of a list of numbers\"\"\"\n",
    "    frequency_dict = {}\n",
    "    for num in lst:\n",
    "        frequency_dict[num] = frequency_dict.get(num, 0) + 1\n",
    "    max_frequency = max(frequency_dict.values())\n",
    "    modes = [num for num, freq in frequency_dict.items() if freq == max_frequency]\n",
    "    return modes\n",
    "print(calculate_mode([1,2,4,8,8,9,3,4,5,6,7,8,9]))\n"
   ]
  },
  {
   "cell_type": "code",
   "execution_count": 39,
   "metadata": {},
   "outputs": [
    {
     "name": "stdout",
     "output_type": "stream",
     "text": [
      "8\n"
     ]
    }
   ],
   "source": [
    "# Range\n",
    "def calculate_range(lst):\n",
    "    \"\"\"Caluclate the range of a list of numbers\"\"\"\n",
    "    return max(lst) - min(lst)\n",
    "print(calculate_range([1,2,3,4,5,6,7,8,9]))"
   ]
  },
  {
   "cell_type": "code",
   "execution_count": 40,
   "metadata": {},
   "outputs": [
    {
     "name": "stdout",
     "output_type": "stream",
     "text": [
      "6.666666666666667\n"
     ]
    }
   ],
   "source": [
    "# Variance\n",
    "def calculate_variance(lst):\n",
    "    \"\"\"Caluclate the variance of a list of numbers\"\"\"\n",
    "    mean = calculate_mean(lst)\n",
    "    variance = sum((x - mean)**2 for x in lst) / len(lst)\n",
    "    return variance\n",
    "print(calculate_variance([1,2,3,4,5,6,7,8,9]))"
   ]
  },
  {
   "cell_type": "code",
   "execution_count": 41,
   "metadata": {},
   "outputs": [
    {
     "name": "stdout",
     "output_type": "stream",
     "text": [
      "2.581988897471611\n"
     ]
    }
   ],
   "source": [
    "# Standard Deviation\n",
    "def calculate_std(lst):\n",
    "    \"\"\"Calculate the standard deviation of a list of numbers\"\"\"\n",
    "    variance = calculate_variance(lst)\n",
    "    std = variance ** 0.5\n",
    "    return std \n",
    "print(calculate_std([1,2,3,4,5,6,7,8,9]))"
   ]
  },
  {
   "cell_type": "markdown",
   "metadata": {},
   "source": [
    "## THE END"
   ]
  }
 ],
 "metadata": {
  "kernelspec": {
   "display_name": "base",
   "language": "python",
   "name": "python3"
  },
  "language_info": {
   "codemirror_mode": {
    "name": "ipython",
    "version": 3
   },
   "file_extension": ".py",
   "mimetype": "text/x-python",
   "name": "python",
   "nbconvert_exporter": "python",
   "pygments_lexer": "ipython3",
   "version": "3.12.3"
  }
 },
 "nbformat": 4,
 "nbformat_minor": 2
}
