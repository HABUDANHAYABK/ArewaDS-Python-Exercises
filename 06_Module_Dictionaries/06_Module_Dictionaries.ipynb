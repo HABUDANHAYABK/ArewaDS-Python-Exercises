{
 "cells": [
  {
   "cell_type": "markdown",
   "metadata": {},
   "source": [
    "# MODULE SIX (DICTIONARIES)\n",
    "\n",
    "_This my exercises for dictionaries module._"
   ]
  },
  {
   "cell_type": "markdown",
   "metadata": {},
   "source": [
    "1. Create an empty dictionary called dog"
   ]
  },
  {
   "cell_type": "code",
   "execution_count": 1,
   "metadata": {},
   "outputs": [],
   "source": [
    "dog = {}"
   ]
  },
  {
   "cell_type": "markdown",
   "metadata": {},
   "source": [
    "2. Add name, color, breed, legs, age to the dog dictionary"
   ]
  },
  {
   "cell_type": "code",
   "execution_count": 2,
   "metadata": {},
   "outputs": [],
   "source": [
    "dog['name'] = 'usman'\n",
    "dog['color'] = 'green'\n",
    "dog['legs'] = 'left'\n",
    "dog['age'] = 27"
   ]
  },
  {
   "cell_type": "code",
   "execution_count": 3,
   "metadata": {},
   "outputs": [
    {
     "name": "stdout",
     "output_type": "stream",
     "text": [
      "{'name': 'usman', 'color': 'green', 'legs': 'left', 'age': 27}\n"
     ]
    }
   ],
   "source": [
    "print(dog)"
   ]
  },
  {
   "cell_type": "markdown",
   "metadata": {},
   "source": [
    "3. Create a student dictionary and add first_name, last_name, gender, age, marital status, skills, country, city and address as keys for the dictionary"
   ]
  },
  {
   "cell_type": "code",
   "execution_count": 4,
   "metadata": {},
   "outputs": [],
   "source": [
    "student_dict = {'fisrt_name': 'abubakar', 'last_name': 'muhammad', 'gender': 'male', 'age': 27, 'marital_status': 'single', 'skills': ['football', 'python', 'mathematics', 'c++', 'java'], 'country': 'nigeria', 'city': 'birnin_kudu', 'address': {'street': 'gangare', 'zipcode': '721101'}}"
   ]
  },
  {
   "cell_type": "code",
   "execution_count": 5,
   "metadata": {},
   "outputs": [
    {
     "name": "stdout",
     "output_type": "stream",
     "text": [
      "{'fisrt_name': 'abubakar', 'last_name': 'muhammad', 'gender': 'male', 'age': 27, 'marital_status': 'single', 'skills': ['football', 'python', 'mathematics', 'c++', 'java'], 'country': 'nigeria', 'city': 'birnin_kudu', 'address': {'street': 'gangare', 'zipcode': '721101'}}\n"
     ]
    }
   ],
   "source": [
    "print(student_dict)"
   ]
  },
  {
   "cell_type": "markdown",
   "metadata": {},
   "source": [
    "4. Get the length of the student dictionary"
   ]
  },
  {
   "cell_type": "code",
   "execution_count": 6,
   "metadata": {},
   "outputs": [
    {
     "name": "stdout",
     "output_type": "stream",
     "text": [
      "The length of student dictionary is 9\n"
     ]
    }
   ],
   "source": [
    "print(f'The length of student dictionary is', len(student_dict))"
   ]
  },
  {
   "cell_type": "markdown",
   "metadata": {},
   "source": [
    "5. Get the value of skills and check the data type, it should be a list"
   ]
  },
  {
   "cell_type": "code",
   "execution_count": 9,
   "metadata": {},
   "outputs": [
    {
     "name": "stdout",
     "output_type": "stream",
     "text": [
      "['football', 'python', 'mathematics', 'c++', 'java']\n"
     ]
    }
   ],
   "source": [
    "print(student_dict['skills'])"
   ]
  },
  {
   "cell_type": "code",
   "execution_count": 10,
   "metadata": {},
   "outputs": [
    {
     "name": "stdout",
     "output_type": "stream",
     "text": [
      "<class 'list'>\n"
     ]
    }
   ],
   "source": [
    "skills_data_type = student_dict['skills']\n",
    "print(type(skills_data_type))"
   ]
  },
  {
   "cell_type": "markdown",
   "metadata": {},
   "source": [
    "6. Modify the skills values by adding one or two skills"
   ]
  },
  {
   "cell_type": "code",
   "execution_count": 13,
   "metadata": {},
   "outputs": [],
   "source": [
    "#adding two skills\n",
    "# basketball and horse riding\n",
    "student_dict['skills'].append('basketball')\n",
    "student_dict['skills'].append('horse riding')"
   ]
  },
  {
   "cell_type": "code",
   "execution_count": 14,
   "metadata": {},
   "outputs": [
    {
     "name": "stdout",
     "output_type": "stream",
     "text": [
      "This is the new student dictionary with updated skills {'fisrt_name': 'abubakar', 'last_name': 'muhammad', 'gender': 'male', 'age': 27, 'marital_status': 'single', 'skills': ['football', 'python', 'mathematics', 'c++', 'java', 'basketball', 'basketball', 'horse riding'], 'country': 'nigeria', 'city': 'birnin_kudu', 'address': {'street': 'gangare', 'zipcode': '721101'}}\n"
     ]
    }
   ],
   "source": [
    "print(f'This is the new student dictionary with updated skills', student_dict)"
   ]
  },
  {
   "cell_type": "markdown",
   "metadata": {},
   "source": [
    "7. Get the dictionary keys as a list"
   ]
  },
  {
   "cell_type": "code",
   "execution_count": 15,
   "metadata": {},
   "outputs": [
    {
     "name": "stdout",
     "output_type": "stream",
     "text": [
      "These are keys in student dictionary dict_keys(['fisrt_name', 'last_name', 'gender', 'age', 'marital_status', 'skills', 'country', 'city', 'address'])\n"
     ]
    }
   ],
   "source": [
    "dict_keys = student_dict.keys()\n",
    "print(f'These are keys in student dictionary', dict_keys)"
   ]
  },
  {
   "cell_type": "markdown",
   "metadata": {},
   "source": [
    "8. Get the dictionary values as a list"
   ]
  },
  {
   "cell_type": "code",
   "execution_count": 16,
   "metadata": {},
   "outputs": [
    {
     "name": "stdout",
     "output_type": "stream",
     "text": [
      "These are values in student dictionary dict_values(['abubakar', 'muhammad', 'male', 27, 'single', ['football', 'python', 'mathematics', 'c++', 'java', 'basketball', 'basketball', 'horse riding'], 'nigeria', 'birnin_kudu', {'street': 'gangare', 'zipcode': '721101'}])\n"
     ]
    }
   ],
   "source": [
    "dict_values = student_dict.values()\n",
    "print(f'These are values in student dictionary', dict_values)"
   ]
  },
  {
   "cell_type": "markdown",
   "metadata": {},
   "source": [
    "9. Change the dictionary to a list of tuples using items() method"
   ]
  },
  {
   "cell_type": "code",
   "execution_count": 17,
   "metadata": {},
   "outputs": [
    {
     "name": "stdout",
     "output_type": "stream",
     "text": [
      "dict_items([('fisrt_name', 'abubakar'), ('last_name', 'muhammad'), ('gender', 'male'), ('age', 27), ('marital_status', 'single'), ('skills', ['football', 'python', 'mathematics', 'c++', 'java', 'basketball', 'basketball', 'horse riding']), ('country', 'nigeria'), ('city', 'birnin_kudu'), ('address', {'street': 'gangare', 'zipcode': '721101'})])\n"
     ]
    }
   ],
   "source": [
    "print(student_dict.items())"
   ]
  },
  {
   "cell_type": "markdown",
   "metadata": {},
   "source": [
    "10. Delete one of the items in the dictionary"
   ]
  },
  {
   "cell_type": "code",
   "execution_count": 20,
   "metadata": {},
   "outputs": [
    {
     "name": "stdout",
     "output_type": "stream",
     "text": [
      "{'fisrt_name': 'abubakar', 'last_name': 'muhammad', 'gender': 'male', 'age': 27, 'marital_status': 'single', 'skills': ['football', 'python', 'mathematics', 'c++', 'java', 'basketball', 'basketball', 'horse riding'], 'country': 'nigeria'}\n"
     ]
    }
   ],
   "source": [
    "# I want to remove the last key and its value in the student dictionary\n",
    "student_dict.popitem()\n",
    "print(student_dict)"
   ]
  },
  {
   "cell_type": "markdown",
   "metadata": {},
   "source": [
    "11. Delete one of the dictionaries"
   ]
  },
  {
   "cell_type": "code",
   "execution_count": 21,
   "metadata": {},
   "outputs": [],
   "source": [
    "del student_dict"
   ]
  },
  {
   "cell_type": "markdown",
   "metadata": {},
   "source": [
    "## THE END"
   ]
  }
 ],
 "metadata": {
  "kernelspec": {
   "display_name": "base",
   "language": "python",
   "name": "python3"
  },
  "language_info": {
   "codemirror_mode": {
    "name": "ipython",
    "version": 3
   },
   "file_extension": ".py",
   "mimetype": "text/x-python",
   "name": "python",
   "nbconvert_exporter": "python",
   "pygments_lexer": "ipython3",
   "version": "3.12.3"
  }
 },
 "nbformat": 4,
 "nbformat_minor": 2
}
